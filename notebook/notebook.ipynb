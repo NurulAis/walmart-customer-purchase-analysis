{
 "cells": [
  {
   "cell_type": "markdown",
   "metadata": {},
   "source": [
    "# import dependencies"
   ]
  },
  {
   "cell_type": "code",
   "execution_count": 1,
   "metadata": {},
   "outputs": [],
   "source": [
    "import pandas as pd\n",
    "import numpy as np\n",
    "import matplotlib.pyplot as plt\n",
    "import seaborn as sns"
   ]
  },
  {
   "cell_type": "markdown",
   "metadata": {},
   "source": [
    "# Load Data"
   ]
  },
  {
   "cell_type": "code",
   "execution_count": 2,
   "metadata": {},
   "outputs": [
    {
     "data": {
      "text/html": [
       "<div>\n",
       "<style scoped>\n",
       "    .dataframe tbody tr th:only-of-type {\n",
       "        vertical-align: middle;\n",
       "    }\n",
       "\n",
       "    .dataframe tbody tr th {\n",
       "        vertical-align: top;\n",
       "    }\n",
       "\n",
       "    .dataframe thead th {\n",
       "        text-align: right;\n",
       "    }\n",
       "</style>\n",
       "<table border=\"1\" class=\"dataframe\">\n",
       "  <thead>\n",
       "    <tr style=\"text-align: right;\">\n",
       "      <th></th>\n",
       "      <th>Customer_ID</th>\n",
       "      <th>Age</th>\n",
       "      <th>Gender</th>\n",
       "      <th>City</th>\n",
       "      <th>Category</th>\n",
       "      <th>Product_Name</th>\n",
       "      <th>Purchase_Date</th>\n",
       "      <th>Purchase_Amount</th>\n",
       "      <th>Payment_Method</th>\n",
       "      <th>Discount_Applied</th>\n",
       "      <th>Rating</th>\n",
       "      <th>Repeat_Customer</th>\n",
       "    </tr>\n",
       "  </thead>\n",
       "  <tbody>\n",
       "    <tr>\n",
       "      <th>0</th>\n",
       "      <td>84607c1f-910c-44d5-b89f-e1ee06dd34c0</td>\n",
       "      <td>49</td>\n",
       "      <td>Female</td>\n",
       "      <td>New Cynthia</td>\n",
       "      <td>Electronics</td>\n",
       "      <td>Smartphone</td>\n",
       "      <td>2024-08-30</td>\n",
       "      <td>253.26</td>\n",
       "      <td>Cash on Delivery</td>\n",
       "      <td>No</td>\n",
       "      <td>1</td>\n",
       "      <td>Yes</td>\n",
       "    </tr>\n",
       "    <tr>\n",
       "      <th>1</th>\n",
       "      <td>f2a81712-a73e-4424-8b39-4c615a0bd4ea</td>\n",
       "      <td>36</td>\n",
       "      <td>Other</td>\n",
       "      <td>Cruzport</td>\n",
       "      <td>Clothing</td>\n",
       "      <td>T-Shirt</td>\n",
       "      <td>2024-12-21</td>\n",
       "      <td>73.19</td>\n",
       "      <td>Debit Card</td>\n",
       "      <td>Yes</td>\n",
       "      <td>1</td>\n",
       "      <td>No</td>\n",
       "    </tr>\n",
       "    <tr>\n",
       "      <th>2</th>\n",
       "      <td>da9be287-8b0e-4688-bccd-1a2cdd7567c6</td>\n",
       "      <td>52</td>\n",
       "      <td>Male</td>\n",
       "      <td>Jeffreytown</td>\n",
       "      <td>Beauty</td>\n",
       "      <td>Perfume</td>\n",
       "      <td>2024-12-26</td>\n",
       "      <td>125.62</td>\n",
       "      <td>Credit Card</td>\n",
       "      <td>Yes</td>\n",
       "      <td>1</td>\n",
       "      <td>No</td>\n",
       "    </tr>\n",
       "    <tr>\n",
       "      <th>3</th>\n",
       "      <td>50ec6932-3ac7-492f-9e55-4b148212f302</td>\n",
       "      <td>47</td>\n",
       "      <td>Female</td>\n",
       "      <td>Jenniferburgh</td>\n",
       "      <td>Electronics</td>\n",
       "      <td>Smartwatch</td>\n",
       "      <td>2024-11-04</td>\n",
       "      <td>450.32</td>\n",
       "      <td>Credit Card</td>\n",
       "      <td>No</td>\n",
       "      <td>2</td>\n",
       "      <td>Yes</td>\n",
       "    </tr>\n",
       "    <tr>\n",
       "      <th>4</th>\n",
       "      <td>8fdc3098-fc75-4b0f-983c-d8d8168c6362</td>\n",
       "      <td>43</td>\n",
       "      <td>Other</td>\n",
       "      <td>Kingshire</td>\n",
       "      <td>Electronics</td>\n",
       "      <td>Smartphone</td>\n",
       "      <td>2024-10-07</td>\n",
       "      <td>369.28</td>\n",
       "      <td>Credit Card</td>\n",
       "      <td>Yes</td>\n",
       "      <td>2</td>\n",
       "      <td>Yes</td>\n",
       "    </tr>\n",
       "  </tbody>\n",
       "</table>\n",
       "</div>"
      ],
      "text/plain": [
       "                            Customer_ID  Age  Gender           City  \\\n",
       "0  84607c1f-910c-44d5-b89f-e1ee06dd34c0   49  Female    New Cynthia   \n",
       "1  f2a81712-a73e-4424-8b39-4c615a0bd4ea   36   Other       Cruzport   \n",
       "2  da9be287-8b0e-4688-bccd-1a2cdd7567c6   52    Male    Jeffreytown   \n",
       "3  50ec6932-3ac7-492f-9e55-4b148212f302   47  Female  Jenniferburgh   \n",
       "4  8fdc3098-fc75-4b0f-983c-d8d8168c6362   43   Other      Kingshire   \n",
       "\n",
       "      Category Product_Name Purchase_Date  Purchase_Amount    Payment_Method  \\\n",
       "0  Electronics   Smartphone    2024-08-30           253.26  Cash on Delivery   \n",
       "1     Clothing      T-Shirt    2024-12-21            73.19        Debit Card   \n",
       "2       Beauty      Perfume    2024-12-26           125.62       Credit Card   \n",
       "3  Electronics   Smartwatch    2024-11-04           450.32       Credit Card   \n",
       "4  Electronics   Smartphone    2024-10-07           369.28       Credit Card   \n",
       "\n",
       "  Discount_Applied  Rating Repeat_Customer  \n",
       "0               No       1             Yes  \n",
       "1              Yes       1              No  \n",
       "2              Yes       1              No  \n",
       "3               No       2             Yes  \n",
       "4              Yes       2             Yes  "
      ]
     },
     "execution_count": 2,
     "metadata": {},
     "output_type": "execute_result"
    }
   ],
   "source": [
    "data = pd.read_csv('E:/Data Science/portofolio/project-2/dataset/Walmart_customer_purchases.csv')\n",
    "data.head()"
   ]
  },
  {
   "cell_type": "markdown",
   "metadata": {},
   "source": [
    "# Cleaning Data"
   ]
  },
  {
   "cell_type": "code",
   "execution_count": 3,
   "metadata": {},
   "outputs": [
    {
     "name": "stdout",
     "output_type": "stream",
     "text": [
      "<class 'pandas.core.frame.DataFrame'>\n",
      "RangeIndex: 50000 entries, 0 to 49999\n",
      "Data columns (total 12 columns):\n",
      " #   Column            Non-Null Count  Dtype  \n",
      "---  ------            --------------  -----  \n",
      " 0   Customer_ID       50000 non-null  object \n",
      " 1   Age               50000 non-null  int64  \n",
      " 2   Gender            50000 non-null  object \n",
      " 3   City              50000 non-null  object \n",
      " 4   Category          50000 non-null  object \n",
      " 5   Product_Name      50000 non-null  object \n",
      " 6   Purchase_Date     50000 non-null  object \n",
      " 7   Purchase_Amount   50000 non-null  float64\n",
      " 8   Payment_Method    50000 non-null  object \n",
      " 9   Discount_Applied  50000 non-null  object \n",
      " 10  Rating            50000 non-null  int64  \n",
      " 11  Repeat_Customer   50000 non-null  object \n",
      "dtypes: float64(1), int64(2), object(9)\n",
      "memory usage: 4.6+ MB\n"
     ]
    }
   ],
   "source": [
    "data.info()"
   ]
  },
  {
   "cell_type": "code",
   "execution_count": 4,
   "metadata": {},
   "outputs": [
    {
     "data": {
      "text/plain": [
       "0"
      ]
     },
     "execution_count": 4,
     "metadata": {},
     "output_type": "execute_result"
    }
   ],
   "source": [
    "data.duplicated().sum()"
   ]
  },
  {
   "cell_type": "code",
   "execution_count": null,
   "metadata": {},
   "outputs": [],
   "source": []
  }
 ],
 "metadata": {
  "kernelspec": {
   "display_name": "Python 3",
   "language": "python",
   "name": "python3"
  },
  "language_info": {
   "codemirror_mode": {
    "name": "ipython",
    "version": 3
   },
   "file_extension": ".py",
   "mimetype": "text/x-python",
   "name": "python",
   "nbconvert_exporter": "python",
   "pygments_lexer": "ipython3",
   "version": "3.12.5"
  }
 },
 "nbformat": 4,
 "nbformat_minor": 2
}
